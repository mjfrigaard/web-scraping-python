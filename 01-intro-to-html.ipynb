{
 "cells": [
  {
   "cell_type": "markdown",
   "metadata": {},
   "source": [
    "# Introduction to HTML\n",
    "\n",
    "Learn the structure of HTML. We begin by explaining why web scraping can be a valuable addition to your data science toolbox and then delving into some basics of HTML. We end the chapter by giving a brief introduction on XPath notation, which is used to navigate the elements within HTML code."
   ]
  },
  {
   "cell_type": "markdown",
   "metadata": {},
   "source": [
    "## Web-scraping is not nonsense!\n",
    "\n",
    "Select which of the following is not correct.\n",
    "\n",
    "### Answer the question\n",
    " \n",
    "Possible Answers:\n",
    "\n",
    "Web scraping can be useful for looking through product reviews to gauge public opinion about a particular product.\n",
    "\n",
    "Web scraping can be useful for reading through social media posts between users in different areas to compare different language usage.\n",
    "\n",
    "Web scraping can be useful for going through online news publications to pick out articles discussing a particular topic.\n",
    "\n",
    "**None of the above, everyone believes web scraping is nonsense!**\n",
    "\n"
   ]
  },
  {
   "cell_type": "markdown",
   "metadata": {},
   "source": [
    "## HTML tree wordy navigation\n",
    "\n",
    "Given the html tree, which of the following does not correctly navigate to the paragraph element containing \"Hello World!\"?\n",
    "\n",
    "### Possible Answers\n",
    "\n",
    "The first child of the body element\n",
    "\n",
    "The first child of the second child of the root html element.\n",
    "\n",
    "**The first sibling of the `title` element.**\n",
    "\n",
    "The only sibling of the paragraph p element containing the text \"Enjoy DataCamp!\".\n",
    "\n",
    "The first paragraph element."
   ]
  },
  {
   "cell_type": "markdown",
   "metadata": {},
   "source": [
    "![](https://assets.datacamp.com/production/repositories/2560/datasets/8f121c655bdba22173091a1ceb1bbdd113573c3b/html_tree_exercise.png)"
   ]
  },
  {
   "cell_type": "markdown",
   "metadata": {},
   "source": [
    "## From Tree to HTML\n",
    "\n",
    "Here you are given the chance to create your own bit of HTML code (as a python string). More specifically, below is an HTML tree image and you will finish the missing code within the string html which produces this HTML tree.\n",
    "\n",
    "![](https://assets.datacamp.com/production/repositories/2560/datasets/7043ab2cf053a078afe4adbda88b669de2a6ab73/html_tree_exercise_resize.png)\n",
    "\n",
    "### To note:\n",
    "\n",
    "We have started the string html for you, to help nudge you in the correct direction.\n",
    "The spacing we use in the portion of the string we provide (e.g., indenting <head> two spaces more than <html>) isn't necessary, but we did so just to make it easier to read.\n",
    "    \n",
    "### Instructions\n",
    "    \n",
    "Fill in the blank within the string variable html so that the HTML code matches its tree representation (including the text within the two paragraph children)."
   ]
  },
  {
   "cell_type": "code",
   "execution_count": null,
   "metadata": {},
   "outputs": [],
   "source": []
  },
  {
   "cell_type": "markdown",
   "metadata": {},
   "source": [
    "#### Simple XPath:\n",
    "\n",
    "Single forward-slash `/` used to move forward one generation. tag-names between slashes give direction to which element(s). Brackets `[]` after a tag name tell us which of the selected siblings to choose.\n",
    "\n"
   ]
  },
  {
   "cell_type": "code",
   "execution_count": null,
   "metadata": {},
   "outputs": [],
   "source": []
  }
 ],
 "metadata": {
  "kernelspec": {
   "display_name": "Python 3",
   "language": "python",
   "name": "python3"
  },
  "language_info": {
   "codemirror_mode": {
    "name": "ipython",
    "version": 3
   },
   "file_extension": ".py",
   "mimetype": "text/x-python",
   "name": "python",
   "nbconvert_exporter": "python",
   "pygments_lexer": "ipython3",
   "version": "3.7.6"
  }
 },
 "nbformat": 4,
 "nbformat_minor": 4
}
